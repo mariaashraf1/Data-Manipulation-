{
 "cells": [
  {
   "cell_type": "markdown",
   "id": "6803adf4",
   "metadata": {
    "papermill": {
     "duration": 0.005944,
     "end_time": "2023-07-03T21:11:53.683736",
     "exception": false,
     "start_time": "2023-07-03T21:11:53.677792",
     "status": "completed"
    },
    "tags": []
   },
   "source": [
    "**This notebook is an exercise in the [Pandas](https://www.kaggle.com/learn/pandas) course.  You can reference the tutorial at [this link](https://www.kaggle.com/residentmario/summary-functions-and-maps).**\n",
    "\n",
    "---\n"
   ]
  },
  {
   "cell_type": "markdown",
   "id": "b5bfe877",
   "metadata": {
    "papermill": {
     "duration": 0.004668,
     "end_time": "2023-07-03T21:11:53.693923",
     "exception": false,
     "start_time": "2023-07-03T21:11:53.689255",
     "status": "completed"
    },
    "tags": []
   },
   "source": [
    "# Introduction\n",
    "\n",
    "Now you are ready to get a deeper understanding of your data.\n",
    "\n",
    "Run the following cell to load your data and some utility functions (including code to check your answers)."
   ]
  },
  {
   "cell_type": "code",
   "execution_count": 1,
   "id": "c87c8e2d",
   "metadata": {
    "execution": {
     "iopub.execute_input": "2023-07-03T21:11:53.705474Z",
     "iopub.status.busy": "2023-07-03T21:11:53.705183Z",
     "iopub.status.idle": "2023-07-03T21:11:58.990645Z",
     "shell.execute_reply": "2023-07-03T21:11:58.989655Z"
    },
    "papermill": {
     "duration": 5.294205,
     "end_time": "2023-07-03T21:11:58.993080",
     "exception": false,
     "start_time": "2023-07-03T21:11:53.698875",
     "status": "completed"
    },
    "tags": []
   },
   "outputs": [
    {
     "name": "stdout",
     "output_type": "stream",
     "text": [
      "Setup complete.\n"
     ]
    },
    {
     "data": {
      "text/html": [
       "<div>\n",
       "<style scoped>\n",
       "    .dataframe tbody tr th:only-of-type {\n",
       "        vertical-align: middle;\n",
       "    }\n",
       "\n",
       "    .dataframe tbody tr th {\n",
       "        vertical-align: top;\n",
       "    }\n",
       "\n",
       "    .dataframe thead th {\n",
       "        text-align: right;\n",
       "    }\n",
       "</style>\n",
       "<table border=\"1\" class=\"dataframe\">\n",
       "  <thead>\n",
       "    <tr style=\"text-align: right;\">\n",
       "      <th></th>\n",
       "      <th>country</th>\n",
       "      <th>description</th>\n",
       "      <th>designation</th>\n",
       "      <th>points</th>\n",
       "      <th>price</th>\n",
       "      <th>province</th>\n",
       "      <th>region_1</th>\n",
       "      <th>region_2</th>\n",
       "      <th>taster_name</th>\n",
       "      <th>taster_twitter_handle</th>\n",
       "      <th>title</th>\n",
       "      <th>variety</th>\n",
       "      <th>winery</th>\n",
       "    </tr>\n",
       "  </thead>\n",
       "  <tbody>\n",
       "    <tr>\n",
       "      <th>0</th>\n",
       "      <td>Italy</td>\n",
       "      <td>Aromas include tropical fruit, broom, brimston...</td>\n",
       "      <td>Vulkà Bianco</td>\n",
       "      <td>87</td>\n",
       "      <td>NaN</td>\n",
       "      <td>Sicily &amp; Sardinia</td>\n",
       "      <td>Etna</td>\n",
       "      <td>NaN</td>\n",
       "      <td>Kerin O’Keefe</td>\n",
       "      <td>@kerinokeefe</td>\n",
       "      <td>Nicosia 2013 Vulkà Bianco  (Etna)</td>\n",
       "      <td>White Blend</td>\n",
       "      <td>Nicosia</td>\n",
       "    </tr>\n",
       "    <tr>\n",
       "      <th>1</th>\n",
       "      <td>Portugal</td>\n",
       "      <td>This is ripe and fruity, a wine that is smooth...</td>\n",
       "      <td>Avidagos</td>\n",
       "      <td>87</td>\n",
       "      <td>15.0</td>\n",
       "      <td>Douro</td>\n",
       "      <td>NaN</td>\n",
       "      <td>NaN</td>\n",
       "      <td>Roger Voss</td>\n",
       "      <td>@vossroger</td>\n",
       "      <td>Quinta dos Avidagos 2011 Avidagos Red (Douro)</td>\n",
       "      <td>Portuguese Red</td>\n",
       "      <td>Quinta dos Avidagos</td>\n",
       "    </tr>\n",
       "    <tr>\n",
       "      <th>2</th>\n",
       "      <td>US</td>\n",
       "      <td>Tart and snappy, the flavors of lime flesh and...</td>\n",
       "      <td>NaN</td>\n",
       "      <td>87</td>\n",
       "      <td>14.0</td>\n",
       "      <td>Oregon</td>\n",
       "      <td>Willamette Valley</td>\n",
       "      <td>Willamette Valley</td>\n",
       "      <td>Paul Gregutt</td>\n",
       "      <td>@paulgwine</td>\n",
       "      <td>Rainstorm 2013 Pinot Gris (Willamette Valley)</td>\n",
       "      <td>Pinot Gris</td>\n",
       "      <td>Rainstorm</td>\n",
       "    </tr>\n",
       "    <tr>\n",
       "      <th>3</th>\n",
       "      <td>US</td>\n",
       "      <td>Pineapple rind, lemon pith and orange blossom ...</td>\n",
       "      <td>Reserve Late Harvest</td>\n",
       "      <td>87</td>\n",
       "      <td>13.0</td>\n",
       "      <td>Michigan</td>\n",
       "      <td>Lake Michigan Shore</td>\n",
       "      <td>NaN</td>\n",
       "      <td>Alexander Peartree</td>\n",
       "      <td>NaN</td>\n",
       "      <td>St. Julian 2013 Reserve Late Harvest Riesling ...</td>\n",
       "      <td>Riesling</td>\n",
       "      <td>St. Julian</td>\n",
       "    </tr>\n",
       "    <tr>\n",
       "      <th>4</th>\n",
       "      <td>US</td>\n",
       "      <td>Much like the regular bottling from 2012, this...</td>\n",
       "      <td>Vintner's Reserve Wild Child Block</td>\n",
       "      <td>87</td>\n",
       "      <td>65.0</td>\n",
       "      <td>Oregon</td>\n",
       "      <td>Willamette Valley</td>\n",
       "      <td>Willamette Valley</td>\n",
       "      <td>Paul Gregutt</td>\n",
       "      <td>@paulgwine</td>\n",
       "      <td>Sweet Cheeks 2012 Vintner's Reserve Wild Child...</td>\n",
       "      <td>Pinot Noir</td>\n",
       "      <td>Sweet Cheeks</td>\n",
       "    </tr>\n",
       "  </tbody>\n",
       "</table>\n",
       "</div>"
      ],
      "text/plain": [
       "    country                                        description  \\\n",
       "0     Italy  Aromas include tropical fruit, broom, brimston...   \n",
       "1  Portugal  This is ripe and fruity, a wine that is smooth...   \n",
       "2        US  Tart and snappy, the flavors of lime flesh and...   \n",
       "3        US  Pineapple rind, lemon pith and orange blossom ...   \n",
       "4        US  Much like the regular bottling from 2012, this...   \n",
       "\n",
       "                          designation  points  price           province  \\\n",
       "0                        Vulkà Bianco      87    NaN  Sicily & Sardinia   \n",
       "1                            Avidagos      87   15.0              Douro   \n",
       "2                                 NaN      87   14.0             Oregon   \n",
       "3                Reserve Late Harvest      87   13.0           Michigan   \n",
       "4  Vintner's Reserve Wild Child Block      87   65.0             Oregon   \n",
       "\n",
       "              region_1           region_2         taster_name  \\\n",
       "0                 Etna                NaN       Kerin O’Keefe   \n",
       "1                  NaN                NaN          Roger Voss   \n",
       "2    Willamette Valley  Willamette Valley        Paul Gregutt   \n",
       "3  Lake Michigan Shore                NaN  Alexander Peartree   \n",
       "4    Willamette Valley  Willamette Valley        Paul Gregutt   \n",
       "\n",
       "  taster_twitter_handle                                              title  \\\n",
       "0          @kerinokeefe                  Nicosia 2013 Vulkà Bianco  (Etna)   \n",
       "1            @vossroger      Quinta dos Avidagos 2011 Avidagos Red (Douro)   \n",
       "2           @paulgwine       Rainstorm 2013 Pinot Gris (Willamette Valley)   \n",
       "3                   NaN  St. Julian 2013 Reserve Late Harvest Riesling ...   \n",
       "4           @paulgwine   Sweet Cheeks 2012 Vintner's Reserve Wild Child...   \n",
       "\n",
       "          variety               winery  \n",
       "0     White Blend              Nicosia  \n",
       "1  Portuguese Red  Quinta dos Avidagos  \n",
       "2      Pinot Gris            Rainstorm  \n",
       "3        Riesling           St. Julian  \n",
       "4      Pinot Noir         Sweet Cheeks  "
      ]
     },
     "execution_count": 1,
     "metadata": {},
     "output_type": "execute_result"
    }
   ],
   "source": [
    "import pandas as pd\n",
    "pd.set_option(\"display.max_rows\", 5)\n",
    "reviews = pd.read_csv(\"../input/wine-reviews/winemag-data-130k-v2.csv\", index_col=0)\n",
    "\n",
    "from learntools.core import binder; binder.bind(globals())\n",
    "from learntools.pandas.summary_functions_and_maps import *\n",
    "print(\"Setup complete.\")\n",
    "\n",
    "reviews.head()"
   ]
  },
  {
   "cell_type": "markdown",
   "id": "4c25878c",
   "metadata": {
    "papermill": {
     "duration": 0.005677,
     "end_time": "2023-07-03T21:11:59.004296",
     "exception": false,
     "start_time": "2023-07-03T21:11:58.998619",
     "status": "completed"
    },
    "tags": []
   },
   "source": [
    "# Exercises"
   ]
  },
  {
   "cell_type": "markdown",
   "id": "d3137f3a",
   "metadata": {
    "papermill": {
     "duration": 0.006184,
     "end_time": "2023-07-03T21:11:59.015727",
     "exception": false,
     "start_time": "2023-07-03T21:11:59.009543",
     "status": "completed"
    },
    "tags": []
   },
   "source": [
    "## 1.\n",
    "\n",
    "What is the median of the `points` column in the `reviews` DataFrame?"
   ]
  },
  {
   "cell_type": "code",
   "execution_count": 2,
   "id": "be5c79ab",
   "metadata": {
    "execution": {
     "iopub.execute_input": "2023-07-03T21:11:59.027575Z",
     "iopub.status.busy": "2023-07-03T21:11:59.027182Z",
     "iopub.status.idle": "2023-07-03T21:11:59.036974Z",
     "shell.execute_reply": "2023-07-03T21:11:59.035950Z"
    },
    "papermill": {
     "duration": 0.018277,
     "end_time": "2023-07-03T21:11:59.039094",
     "exception": false,
     "start_time": "2023-07-03T21:11:59.020817",
     "status": "completed"
    },
    "tags": []
   },
   "outputs": [
    {
     "data": {
      "application/javascript": [
       "parent.postMessage({\"jupyterEvent\": \"custom.exercise_interaction\", \"data\": {\"outcomeType\": 1, \"valueTowardsCompletion\": 0.14285714285714285, \"interactionType\": 1, \"questionType\": 1, \"questionId\": \"1_MedianPoints\", \"learnToolsVersion\": \"0.3.4\", \"failureMessage\": \"\", \"exceptionClass\": \"\", \"trace\": \"\"}}, \"*\")"
      ],
      "text/plain": [
       "<IPython.core.display.Javascript object>"
      ]
     },
     "metadata": {},
     "output_type": "display_data"
    },
    {
     "data": {
      "text/markdown": [
       "<span style=\"color:#33cc33\">Correct</span>"
      ],
      "text/plain": [
       "Correct"
      ]
     },
     "metadata": {},
     "output_type": "display_data"
    }
   ],
   "source": [
    "median_points =reviews.points.median()\n",
    "\n",
    "# Check your answer\n",
    "q1.check()"
   ]
  },
  {
   "cell_type": "code",
   "execution_count": 3,
   "id": "08c7afa0",
   "metadata": {
    "execution": {
     "iopub.execute_input": "2023-07-03T21:11:59.051867Z",
     "iopub.status.busy": "2023-07-03T21:11:59.051276Z",
     "iopub.status.idle": "2023-07-03T21:11:59.054528Z",
     "shell.execute_reply": "2023-07-03T21:11:59.053902Z"
    },
    "papermill": {
     "duration": 0.011275,
     "end_time": "2023-07-03T21:11:59.056128",
     "exception": false,
     "start_time": "2023-07-03T21:11:59.044853",
     "status": "completed"
    },
    "tags": []
   },
   "outputs": [],
   "source": [
    "#q1.hint()\n",
    "#q1.solution()"
   ]
  },
  {
   "cell_type": "markdown",
   "id": "281e283b",
   "metadata": {
    "papermill": {
     "duration": 0.00515,
     "end_time": "2023-07-03T21:11:59.066609",
     "exception": false,
     "start_time": "2023-07-03T21:11:59.061459",
     "status": "completed"
    },
    "tags": []
   },
   "source": [
    "## 2. \n",
    "What countries are represented in the dataset? (Your answer should not include any duplicates.)"
   ]
  },
  {
   "cell_type": "code",
   "execution_count": 4,
   "id": "f48b9e25",
   "metadata": {
    "execution": {
     "iopub.execute_input": "2023-07-03T21:11:59.079051Z",
     "iopub.status.busy": "2023-07-03T21:11:59.078430Z",
     "iopub.status.idle": "2023-07-03T21:11:59.090301Z",
     "shell.execute_reply": "2023-07-03T21:11:59.089458Z"
    },
    "papermill": {
     "duration": 0.020242,
     "end_time": "2023-07-03T21:11:59.092081",
     "exception": false,
     "start_time": "2023-07-03T21:11:59.071839",
     "status": "completed"
    },
    "tags": []
   },
   "outputs": [
    {
     "data": {
      "application/javascript": [
       "parent.postMessage({\"jupyterEvent\": \"custom.exercise_interaction\", \"data\": {\"outcomeType\": 1, \"valueTowardsCompletion\": 0.14285714285714285, \"interactionType\": 1, \"questionType\": 2, \"questionId\": \"2_UniqueCountries\", \"learnToolsVersion\": \"0.3.4\", \"failureMessage\": \"\", \"exceptionClass\": \"\", \"trace\": \"\"}}, \"*\")"
      ],
      "text/plain": [
       "<IPython.core.display.Javascript object>"
      ]
     },
     "metadata": {},
     "output_type": "display_data"
    },
    {
     "data": {
      "text/markdown": [
       "<span style=\"color:#33cc33\">Correct</span>"
      ],
      "text/plain": [
       "Correct"
      ]
     },
     "metadata": {},
     "output_type": "display_data"
    }
   ],
   "source": [
    "countries = reviews.country.unique()\n",
    "\n",
    "# Check your answer\n",
    "q2.check()"
   ]
  },
  {
   "cell_type": "code",
   "execution_count": 5,
   "id": "7a428637",
   "metadata": {
    "execution": {
     "iopub.execute_input": "2023-07-03T21:11:59.105443Z",
     "iopub.status.busy": "2023-07-03T21:11:59.104960Z",
     "iopub.status.idle": "2023-07-03T21:11:59.108805Z",
     "shell.execute_reply": "2023-07-03T21:11:59.108024Z"
    },
    "papermill": {
     "duration": 0.012955,
     "end_time": "2023-07-03T21:11:59.111064",
     "exception": false,
     "start_time": "2023-07-03T21:11:59.098109",
     "status": "completed"
    },
    "tags": []
   },
   "outputs": [],
   "source": [
    "#q2.hint()\n",
    "#q2.solution()"
   ]
  },
  {
   "cell_type": "markdown",
   "id": "ff680e00",
   "metadata": {
    "papermill": {
     "duration": 0.005328,
     "end_time": "2023-07-03T21:11:59.122191",
     "exception": false,
     "start_time": "2023-07-03T21:11:59.116863",
     "status": "completed"
    },
    "tags": []
   },
   "source": [
    "## 3.\n",
    "How often does each country appear in the dataset? Create a Series `reviews_per_country` mapping countries to the count of reviews of wines from that country."
   ]
  },
  {
   "cell_type": "code",
   "execution_count": 6,
   "id": "bb2aea31",
   "metadata": {
    "execution": {
     "iopub.execute_input": "2023-07-03T21:11:59.134706Z",
     "iopub.status.busy": "2023-07-03T21:11:59.134370Z",
     "iopub.status.idle": "2023-07-03T21:11:59.148392Z",
     "shell.execute_reply": "2023-07-03T21:11:59.147611Z"
    },
    "papermill": {
     "duration": 0.022338,
     "end_time": "2023-07-03T21:11:59.150111",
     "exception": false,
     "start_time": "2023-07-03T21:11:59.127773",
     "status": "completed"
    },
    "tags": []
   },
   "outputs": [
    {
     "data": {
      "application/javascript": [
       "parent.postMessage({\"jupyterEvent\": \"custom.exercise_interaction\", \"data\": {\"outcomeType\": 1, \"valueTowardsCompletion\": 0.14285714285714285, \"interactionType\": 1, \"questionType\": 1, \"questionId\": \"3_ReviewsPerCountry\", \"learnToolsVersion\": \"0.3.4\", \"failureMessage\": \"\", \"exceptionClass\": \"\", \"trace\": \"\"}}, \"*\")"
      ],
      "text/plain": [
       "<IPython.core.display.Javascript object>"
      ]
     },
     "metadata": {},
     "output_type": "display_data"
    },
    {
     "data": {
      "text/markdown": [
       "<span style=\"color:#33cc33\">Correct</span>"
      ],
      "text/plain": [
       "Correct"
      ]
     },
     "metadata": {},
     "output_type": "display_data"
    }
   ],
   "source": [
    "reviews_per_country =reviews_per_country = reviews.country.value_counts()\n",
    "\n",
    "\n",
    "\n",
    "# Check your answer\n",
    "q3.check()"
   ]
  },
  {
   "cell_type": "code",
   "execution_count": 7,
   "id": "dea7f19b",
   "metadata": {
    "execution": {
     "iopub.execute_input": "2023-07-03T21:11:59.163785Z",
     "iopub.status.busy": "2023-07-03T21:11:59.163427Z",
     "iopub.status.idle": "2023-07-03T21:11:59.167111Z",
     "shell.execute_reply": "2023-07-03T21:11:59.166361Z"
    },
    "papermill": {
     "duration": 0.012523,
     "end_time": "2023-07-03T21:11:59.168780",
     "exception": false,
     "start_time": "2023-07-03T21:11:59.156257",
     "status": "completed"
    },
    "tags": []
   },
   "outputs": [],
   "source": [
    "#q3.hint()\n",
    "#q3.solution()"
   ]
  },
  {
   "cell_type": "markdown",
   "id": "45ccc42f",
   "metadata": {
    "papermill": {
     "duration": 0.005527,
     "end_time": "2023-07-03T21:11:59.180341",
     "exception": false,
     "start_time": "2023-07-03T21:11:59.174814",
     "status": "completed"
    },
    "tags": []
   },
   "source": [
    "## 4.\n",
    "Create variable `centered_price` containing a version of the `price` column with the mean price subtracted.\n",
    "\n",
    "(Note: this 'centering' transformation is a common preprocessing step before applying various machine learning algorithms.) "
   ]
  },
  {
   "cell_type": "code",
   "execution_count": 8,
   "id": "749620af",
   "metadata": {
    "execution": {
     "iopub.execute_input": "2023-07-03T21:11:59.194096Z",
     "iopub.status.busy": "2023-07-03T21:11:59.193176Z",
     "iopub.status.idle": "2023-07-03T21:11:59.203480Z",
     "shell.execute_reply": "2023-07-03T21:11:59.202569Z"
    },
    "papermill": {
     "duration": 0.018929,
     "end_time": "2023-07-03T21:11:59.205280",
     "exception": false,
     "start_time": "2023-07-03T21:11:59.186351",
     "status": "completed"
    },
    "tags": []
   },
   "outputs": [
    {
     "data": {
      "application/javascript": [
       "parent.postMessage({\"jupyterEvent\": \"custom.exercise_interaction\", \"data\": {\"outcomeType\": 1, \"valueTowardsCompletion\": 0.14285714285714285, \"interactionType\": 1, \"questionType\": 1, \"questionId\": \"4_CenteredPrice\", \"learnToolsVersion\": \"0.3.4\", \"failureMessage\": \"\", \"exceptionClass\": \"\", \"trace\": \"\"}}, \"*\")"
      ],
      "text/plain": [
       "<IPython.core.display.Javascript object>"
      ]
     },
     "metadata": {},
     "output_type": "display_data"
    },
    {
     "data": {
      "text/markdown": [
       "<span style=\"color:#33cc33\">Correct</span>"
      ],
      "text/plain": [
       "Correct"
      ]
     },
     "metadata": {},
     "output_type": "display_data"
    }
   ],
   "source": [
    "centered_price =reviews.price - reviews.price.mean()\n",
    "\n",
    "\n",
    "# Check your answer\n",
    "q4.check()"
   ]
  },
  {
   "cell_type": "code",
   "execution_count": 9,
   "id": "9805d57a",
   "metadata": {
    "execution": {
     "iopub.execute_input": "2023-07-03T21:11:59.219099Z",
     "iopub.status.busy": "2023-07-03T21:11:59.218787Z",
     "iopub.status.idle": "2023-07-03T21:11:59.222710Z",
     "shell.execute_reply": "2023-07-03T21:11:59.221768Z"
    },
    "papermill": {
     "duration": 0.013161,
     "end_time": "2023-07-03T21:11:59.224678",
     "exception": false,
     "start_time": "2023-07-03T21:11:59.211517",
     "status": "completed"
    },
    "tags": []
   },
   "outputs": [],
   "source": [
    "#q4.hint()\n",
    "#q4.solution()"
   ]
  },
  {
   "cell_type": "markdown",
   "id": "bdff5d23",
   "metadata": {
    "papermill": {
     "duration": 0.005936,
     "end_time": "2023-07-03T21:11:59.237210",
     "exception": false,
     "start_time": "2023-07-03T21:11:59.231274",
     "status": "completed"
    },
    "tags": []
   },
   "source": [
    "## 5.\n",
    "I'm an economical wine buyer. Which wine is the \"best bargain\"? Create a variable `bargain_wine` with the title of the wine with the highest points-to-price ratio in the dataset."
   ]
  },
  {
   "cell_type": "code",
   "execution_count": 10,
   "id": "cb0942e3",
   "metadata": {
    "execution": {
     "iopub.execute_input": "2023-07-03T21:11:59.251110Z",
     "iopub.status.busy": "2023-07-03T21:11:59.250739Z",
     "iopub.status.idle": "2023-07-03T21:11:59.261717Z",
     "shell.execute_reply": "2023-07-03T21:11:59.260482Z"
    },
    "papermill": {
     "duration": 0.020032,
     "end_time": "2023-07-03T21:11:59.263501",
     "exception": false,
     "start_time": "2023-07-03T21:11:59.243469",
     "status": "completed"
    },
    "tags": []
   },
   "outputs": [
    {
     "data": {
      "application/javascript": [
       "parent.postMessage({\"jupyterEvent\": \"custom.exercise_interaction\", \"data\": {\"outcomeType\": 1, \"valueTowardsCompletion\": 0.14285714285714285, \"interactionType\": 1, \"questionType\": 2, \"questionId\": \"5_BargainWine\", \"learnToolsVersion\": \"0.3.4\", \"failureMessage\": \"\", \"exceptionClass\": \"\", \"trace\": \"\"}}, \"*\")"
      ],
      "text/plain": [
       "<IPython.core.display.Javascript object>"
      ]
     },
     "metadata": {},
     "output_type": "display_data"
    },
    {
     "data": {
      "text/markdown": [
       "<span style=\"color:#33cc33\">Correct</span>"
      ],
      "text/plain": [
       "Correct"
      ]
     },
     "metadata": {},
     "output_type": "display_data"
    }
   ],
   "source": [
    "bargain_idx = (reviews.points / reviews.price).idxmax()\n",
    "bargain_wine = reviews.loc[bargain_idx, 'title']\n",
    "\n",
    "# Check your answer\n",
    "q5.check()"
   ]
  },
  {
   "cell_type": "code",
   "execution_count": 11,
   "id": "ff61bba8",
   "metadata": {
    "execution": {
     "iopub.execute_input": "2023-07-03T21:11:59.277463Z",
     "iopub.status.busy": "2023-07-03T21:11:59.277028Z",
     "iopub.status.idle": "2023-07-03T21:11:59.281032Z",
     "shell.execute_reply": "2023-07-03T21:11:59.280161Z"
    },
    "papermill": {
     "duration": 0.012868,
     "end_time": "2023-07-03T21:11:59.282766",
     "exception": false,
     "start_time": "2023-07-03T21:11:59.269898",
     "status": "completed"
    },
    "tags": []
   },
   "outputs": [],
   "source": [
    "#q5.hint()\n",
    "#q5.solution()"
   ]
  },
  {
   "cell_type": "markdown",
   "id": "91488bcb",
   "metadata": {
    "papermill": {
     "duration": 0.005997,
     "end_time": "2023-07-03T21:11:59.295101",
     "exception": false,
     "start_time": "2023-07-03T21:11:59.289104",
     "status": "completed"
    },
    "tags": []
   },
   "source": [
    "## 6.\n",
    "There are only so many words you can use when describing a bottle of wine. Is a wine more likely to be \"tropical\" or \"fruity\"? Create a Series `descriptor_counts` counting how many times each of these two words appears in the `description` column in the dataset. (For simplicity, let's ignore the capitalized versions of these words.)"
   ]
  },
  {
   "cell_type": "code",
   "execution_count": 12,
   "id": "fbe71dde",
   "metadata": {
    "execution": {
     "iopub.execute_input": "2023-07-03T21:11:59.308836Z",
     "iopub.status.busy": "2023-07-03T21:11:59.308502Z",
     "iopub.status.idle": "2023-07-03T21:11:59.417614Z",
     "shell.execute_reply": "2023-07-03T21:11:59.416540Z"
    },
    "papermill": {
     "duration": 0.118528,
     "end_time": "2023-07-03T21:11:59.419699",
     "exception": false,
     "start_time": "2023-07-03T21:11:59.301171",
     "status": "completed"
    },
    "tags": []
   },
   "outputs": [
    {
     "name": "stdout",
     "output_type": "stream",
     "text": [
      "tropical    3607\n",
      "fruity      9090\n",
      "dtype: int64\n"
     ]
    },
    {
     "data": {
      "application/javascript": [
       "parent.postMessage({\"jupyterEvent\": \"custom.exercise_interaction\", \"data\": {\"outcomeType\": 1, \"valueTowardsCompletion\": 0.14285714285714285, \"interactionType\": 1, \"questionType\": 1, \"questionId\": \"6_DescriptorCounts\", \"learnToolsVersion\": \"0.3.4\", \"failureMessage\": \"\", \"exceptionClass\": \"\", \"trace\": \"\"}}, \"*\")"
      ],
      "text/plain": [
       "<IPython.core.display.Javascript object>"
      ]
     },
     "metadata": {},
     "output_type": "display_data"
    },
    {
     "data": {
      "text/markdown": [
       "<span style=\"color:#33cc33\">Correct</span>"
      ],
      "text/plain": [
       "Correct"
      ]
     },
     "metadata": {},
     "output_type": "display_data"
    }
   ],
   "source": [
    "n_trop = reviews.description.map(lambda p: \"tropical\" in p).sum()\n",
    "n_fruity = reviews.description.map(lambda desc: \"fruity\" in desc).sum()\n",
    "\n",
    "descriptor_counts = pd.Series([n_trop, n_fruity], index=['tropical', 'fruity'])\n",
    "print(descriptor_counts)\n",
    "# Check your answer\n",
    "q6.check()"
   ]
  },
  {
   "cell_type": "code",
   "execution_count": 13,
   "id": "21ae874e",
   "metadata": {
    "execution": {
     "iopub.execute_input": "2023-07-03T21:11:59.434924Z",
     "iopub.status.busy": "2023-07-03T21:11:59.434178Z",
     "iopub.status.idle": "2023-07-03T21:11:59.438160Z",
     "shell.execute_reply": "2023-07-03T21:11:59.437186Z"
    },
    "papermill": {
     "duration": 0.014086,
     "end_time": "2023-07-03T21:11:59.440535",
     "exception": false,
     "start_time": "2023-07-03T21:11:59.426449",
     "status": "completed"
    },
    "tags": []
   },
   "outputs": [],
   "source": [
    "#q6.hint()\n",
    "#q6.solution()"
   ]
  },
  {
   "cell_type": "markdown",
   "id": "d9c1e3f2",
   "metadata": {
    "papermill": {
     "duration": 0.006713,
     "end_time": "2023-07-03T21:11:59.454508",
     "exception": false,
     "start_time": "2023-07-03T21:11:59.447795",
     "status": "completed"
    },
    "tags": []
   },
   "source": [
    "## 7.\n",
    "We'd like to host these wine reviews on our website, but a rating system ranging from 80 to 100 points is too hard to understand - we'd like to translate them into simple star ratings. A score of 95 or higher counts as 3 stars, a score of at least 85 but less than 95 is 2 stars. Any other score is 1 star.\n",
    "\n",
    "Also, the Canadian Vintners Association bought a lot of ads on the site, so any wines from Canada should automatically get 3 stars, regardless of points.\n",
    "\n",
    "Create a series `star_ratings` with the number of stars corresponding to each review in the dataset."
   ]
  },
  {
   "cell_type": "code",
   "execution_count": 14,
   "id": "e8cf92a6",
   "metadata": {
    "execution": {
     "iopub.execute_input": "2023-07-03T21:11:59.469631Z",
     "iopub.status.busy": "2023-07-03T21:11:59.469114Z",
     "iopub.status.idle": "2023-07-03T21:12:02.413025Z",
     "shell.execute_reply": "2023-07-03T21:12:02.412172Z"
    },
    "papermill": {
     "duration": 2.953676,
     "end_time": "2023-07-03T21:12:02.415084",
     "exception": false,
     "start_time": "2023-07-03T21:11:59.461408",
     "status": "completed"
    },
    "tags": []
   },
   "outputs": [
    {
     "data": {
      "application/javascript": [
       "parent.postMessage({\"jupyterEvent\": \"custom.exercise_interaction\", \"data\": {\"outcomeType\": 1, \"valueTowardsCompletion\": 0.14285714285714285, \"interactionType\": 1, \"questionType\": 1, \"questionId\": \"7_StarRatings\", \"learnToolsVersion\": \"0.3.4\", \"failureMessage\": \"\", \"exceptionClass\": \"\", \"trace\": \"\"}}, \"*\")"
      ],
      "text/plain": [
       "<IPython.core.display.Javascript object>"
      ]
     },
     "metadata": {},
     "output_type": "display_data"
    },
    {
     "data": {
      "text/markdown": [
       "<span style=\"color:#33cc33\">Correct</span>"
      ],
      "text/plain": [
       "Correct"
      ]
     },
     "metadata": {},
     "output_type": "display_data"
    }
   ],
   "source": [
    " def stars(row):\n",
    "    if row.country == 'Canada':\n",
    "        return 3\n",
    "    elif row.points >= 95:\n",
    "        return 3\n",
    "    elif row.points >= 85:\n",
    "        return 2\n",
    "    else:\n",
    "        return 1\n",
    "\n",
    "star_ratings = reviews.apply(stars, axis='columns')\n",
    "\n",
    "# Check your answer\n",
    "q7.check()"
   ]
  },
  {
   "cell_type": "code",
   "execution_count": 15,
   "id": "1f90b123",
   "metadata": {
    "execution": {
     "iopub.execute_input": "2023-07-03T21:12:02.430824Z",
     "iopub.status.busy": "2023-07-03T21:12:02.430478Z",
     "iopub.status.idle": "2023-07-03T21:12:02.434351Z",
     "shell.execute_reply": "2023-07-03T21:12:02.433178Z"
    },
    "papermill": {
     "duration": 0.013905,
     "end_time": "2023-07-03T21:12:02.436075",
     "exception": false,
     "start_time": "2023-07-03T21:12:02.422170",
     "status": "completed"
    },
    "tags": []
   },
   "outputs": [],
   "source": [
    "#q7.hint()\n",
    "#q7.solution()"
   ]
  },
  {
   "cell_type": "markdown",
   "id": "685f7b35",
   "metadata": {
    "papermill": {
     "duration": 0.006291,
     "end_time": "2023-07-03T21:12:02.449529",
     "exception": false,
     "start_time": "2023-07-03T21:12:02.443238",
     "status": "completed"
    },
    "tags": []
   },
   "source": [
    "# Keep going\n",
    "Continue to **[grouping and sorting](https://www.kaggle.com/residentmario/grouping-and-sorting)**."
   ]
  },
  {
   "cell_type": "markdown",
   "id": "f89b408d",
   "metadata": {
    "papermill": {
     "duration": 0.006445,
     "end_time": "2023-07-03T21:12:02.462504",
     "exception": false,
     "start_time": "2023-07-03T21:12:02.456059",
     "status": "completed"
    },
    "tags": []
   },
   "source": [
    "---\n",
    "\n",
    "\n",
    "\n",
    "\n",
    "*Have questions or comments? Visit the [course discussion forum](https://www.kaggle.com/learn/pandas/discussion) to chat with other learners.*"
   ]
  }
 ],
 "metadata": {
  "kernelspec": {
   "display_name": "Python 3",
   "language": "python",
   "name": "python3"
  },
  "language_info": {
   "codemirror_mode": {
    "name": "ipython",
    "version": 3
   },
   "file_extension": ".py",
   "mimetype": "text/x-python",
   "name": "python",
   "nbconvert_exporter": "python",
   "pygments_lexer": "ipython3",
   "version": "3.10.10"
  },
  "papermill": {
   "default_parameters": {},
   "duration": 18.898217,
   "end_time": "2023-07-03T21:12:03.188852",
   "environment_variables": {},
   "exception": null,
   "input_path": "__notebook__.ipynb",
   "output_path": "__notebook__.ipynb",
   "parameters": {},
   "start_time": "2023-07-03T21:11:44.290635",
   "version": "2.4.0"
  }
 },
 "nbformat": 4,
 "nbformat_minor": 5
}
